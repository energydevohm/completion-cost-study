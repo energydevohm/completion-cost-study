{
 "cells": [
  {
   "cell_type": "markdown",
   "metadata": {},
   "source": [
    "# Casing design affects frac geometry and economics\n",
    "_Ohm Devani_\n",
    "\n",
    "__NOTE: This project will focus on relative economic uplift between 2 casings.__\n",
    "\n",
    "## Contents\n",
    "1. Model inputs\n",
    "2. Base case\n",
    "    - define per-frac endpoints (min rate defined by dfit initiation rate, max rate defined by hhp of fleet, water volume/frac)\n",
    "    - economic constants (pump charge, water cost\n",
    "3. Economic sensitivities\n",
    "    1. Frac surface area (PKN) vs rate; 2 series for different casing sizes\n",
    "        - $ cost/surface area vs rate vs (y-axis 2) surface area\n",
    "        - Talk about impact of other variables: \n",
    "    2. Frac pump time vs rate\n"
   ]
  },
  {
   "cell_type": "markdown",
   "metadata": {},
   "source": [
    "### 1. Model inputs\n",
    "\n",
    "\n"
   ]
  }
 ],
 "metadata": {
  "kernelspec": {
   "display_name": "Python 3",
   "language": "python",
   "name": "python3"
  },
  "language_info": {
   "codemirror_mode": {
    "name": "ipython",
    "version": 3
   },
   "file_extension": ".py",
   "mimetype": "text/x-python",
   "name": "python",
   "nbconvert_exporter": "python",
   "pygments_lexer": "ipython3",
   "version": "3.7.7"
  }
 },
 "nbformat": 4,
 "nbformat_minor": 4
}

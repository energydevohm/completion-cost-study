{
 "cells": [
  {
   "cell_type": "markdown",
   "metadata": {},
   "source": [
    "# Casing design affects frac geometry and economics\n",
    "_Ohm Devani_\n",
    "\n",
    "NOTE: This project will focus on relative economic uplift between 2 casing designs in similar geology.\n",
    "\n",
    "## Contents\n",
    "1. Model inputs\n",
    "2. Base case\n",
    "    - define per-frac endpoints (min rate defined by dfit initiation rate, max rate defined by hhp of fleet, water volume/frac)\n",
    "    - economic constants (pump charge, water cost\n",
    "3. Economic sensitivities\n",
    "    1. Frac surface area (PKN) vs rate; 2 series for different casing sizes\n",
    "        - \\$ cost/surface area vs rate vs (y-axis 2) surface area\n",
    "        - Talk about impact of other variables: stress shadow, additional height growth in absence of frac barriers, better proppant/fluid distribution between clusters\n",
    "    2. Frac pump time vs rate vs $ cost/stage (y2)\n"
   ]
  },
  {
   "cell_type": "markdown",
   "metadata": {},
   "source": [
    "### Model parameters\n",
    "\n",
    "0.8 psi/ft frac gradient\n",
    "1.05 connate water SG\n",
    "\n",
    "Horizontal well\n",
    "Midpoint lateral TVD 10,000 ft\n",
    "\n",
    "Scenario A:\n",
    "7\" 32# T-95 intermediate casing to 9000 ft (6.094\" ID)\n",
    "4 1/2\" 11.6# P-110 liner to 20000 ft (4\" ID)\n",
    "\n",
    "Scenario B:\n",
    "5.5\" 17# P-110 casing to 20000 ft (4.892\" ID)\n",
    "\n",
    "\n",
    "\n",
    "\n",
    "\n",
    "10 clusters/stage\n",
    "15 ft cluster spacing\n",
    "60 bbl/ft\n",
    "ignore proppant\n",
    "7000 psi target surface pressure\n",
    "2000 psi target NWB friction\n",
    "\n",
    "Intermediate "
   ]
  },
  {
   "cell_type": "markdown",
   "metadata": {},
   "source": [
    "### Pipe friction estimates\n",
    "\n",
    "Hazen-Williams for pipe friction\n",
    "SPE 146674 correlation for friction reduction"
   ]
  },
  {
   "cell_type": "code",
   "execution_count": 2,
   "metadata": {},
   "outputs": [
    {
     "ename": "AttributeError",
     "evalue": "module 'pandas' has no attribute 'compat'",
     "output_type": "error",
     "traceback": [
      "\u001b[1;31m---------------------------------------------------------------------------\u001b[0m",
      "\u001b[1;31mAttributeError\u001b[0m                            Traceback (most recent call last)",
      "\u001b[1;32m<ipython-input-2-53a02f99c287>\u001b[0m in \u001b[0;36m<module>\u001b[1;34m\u001b[0m\n\u001b[1;32m----> 1\u001b[1;33m \u001b[1;32mimport\u001b[0m \u001b[0mpandas\u001b[0m \u001b[1;32mas\u001b[0m \u001b[0mpd\u001b[0m\u001b[1;33m\u001b[0m\u001b[1;33m\u001b[0m\u001b[0m\n\u001b[0m\u001b[0;32m      2\u001b[0m \u001b[1;33m\u001b[0m\u001b[0m\n\u001b[0;32m      3\u001b[0m \u001b[1;32mdef\u001b[0m \u001b[0mhwfriclosspsi\u001b[0m\u001b[1;33m(\u001b[0m\u001b[0mcfactor\u001b[0m\u001b[1;33m,\u001b[0m\u001b[0mratebpm\u001b[0m\u001b[1;33m,\u001b[0m\u001b[0mpipeidinch\u001b[0m\u001b[1;33m,\u001b[0m\u001b[0mlengthft\u001b[0m\u001b[1;33m)\u001b[0m\u001b[1;33m:\u001b[0m\u001b[1;33m\u001b[0m\u001b[1;33m\u001b[0m\u001b[0m\n\u001b[0;32m      4\u001b[0m     \u001b[0mhyddiam\u001b[0m \u001b[1;33m=\u001b[0m \u001b[1;36m4\u001b[0m\u001b[1;33m*\u001b[0m\u001b[1;33m(\u001b[0m\u001b[1;36m3.14159\u001b[0m\u001b[1;33m*\u001b[0m\u001b[1;33m(\u001b[0m\u001b[0mpipeidinch\u001b[0m\u001b[1;33m/\u001b[0m\u001b[1;36m2\u001b[0m\u001b[1;33m)\u001b[0m\u001b[1;33m**\u001b[0m\u001b[1;36m2\u001b[0m\u001b[1;33m)\u001b[0m\u001b[1;33m/\u001b[0m\u001b[1;33m(\u001b[0m\u001b[1;36m2\u001b[0m\u001b[1;33m*\u001b[0m\u001b[1;36m3.14169\u001b[0m\u001b[1;33m*\u001b[0m\u001b[0mpipeidinch\u001b[0m\u001b[1;33m/\u001b[0m\u001b[1;36m2\u001b[0m\u001b[1;33m)\u001b[0m\u001b[1;33m\u001b[0m\u001b[1;33m\u001b[0m\u001b[0m\n\u001b[0;32m      5\u001b[0m     \u001b[0mhwfriclosspsi\u001b[0m \u001b[1;33m=\u001b[0m \u001b[1;36m0.2083\u001b[0m\u001b[1;33m*\u001b[0m\u001b[1;33m(\u001b[0m\u001b[1;33m(\u001b[0m\u001b[1;36m100\u001b[0m\u001b[1;33m/\u001b[0m\u001b[0mcfactor\u001b[0m\u001b[1;33m)\u001b[0m\u001b[1;33m**\u001b[0m\u001b[1;36m1.852\u001b[0m\u001b[1;33m)\u001b[0m\u001b[1;33m*\u001b[0m\u001b[1;33m(\u001b[0m\u001b[1;33m(\u001b[0m\u001b[0mratebpm\u001b[0m\u001b[1;33m*\u001b[0m\u001b[1;36m42\u001b[0m\u001b[1;33m)\u001b[0m\u001b[1;33m**\u001b[0m\u001b[1;36m1.852\u001b[0m\u001b[1;33m)\u001b[0m\u001b[1;33m/\u001b[0m\u001b[1;33m(\u001b[0m\u001b[0mhyddiam\u001b[0m\u001b[1;33m**\u001b[0m\u001b[1;36m4.8655\u001b[0m\u001b[1;33m)\u001b[0m\u001b[1;33m*\u001b[0m\u001b[1;36m.433\u001b[0m\u001b[1;33m*\u001b[0m\u001b[0mlengthft\u001b[0m\u001b[1;33m/\u001b[0m\u001b[1;36m100\u001b[0m\u001b[1;33m\u001b[0m\u001b[1;33m\u001b[0m\u001b[0m\n",
      "\u001b[1;32m~\\Anaconda3\\lib\\site-packages\\pandas\\__init__.py\u001b[0m in \u001b[0;36m<module>\u001b[1;34m\u001b[0m\n\u001b[0;32m    191\u001b[0m \u001b[1;31m# GH 27101\u001b[0m\u001b[1;33m\u001b[0m\u001b[1;33m\u001b[0m\u001b[1;33m\u001b[0m\u001b[0m\n\u001b[0;32m    192\u001b[0m \u001b[1;31m# TODO: remove Panel compat in 1.0\u001b[0m\u001b[1;33m\u001b[0m\u001b[1;33m\u001b[0m\u001b[1;33m\u001b[0m\u001b[0m\n\u001b[1;32m--> 193\u001b[1;33m \u001b[1;32mif\u001b[0m \u001b[0mpandas\u001b[0m\u001b[1;33m.\u001b[0m\u001b[0mcompat\u001b[0m\u001b[1;33m.\u001b[0m\u001b[0mPY37\u001b[0m\u001b[1;33m:\u001b[0m\u001b[1;33m\u001b[0m\u001b[1;33m\u001b[0m\u001b[0m\n\u001b[0m\u001b[0;32m    194\u001b[0m \u001b[1;33m\u001b[0m\u001b[0m\n\u001b[0;32m    195\u001b[0m     \u001b[1;32mdef\u001b[0m \u001b[0m__getattr__\u001b[0m\u001b[1;33m(\u001b[0m\u001b[0mname\u001b[0m\u001b[1;33m)\u001b[0m\u001b[1;33m:\u001b[0m\u001b[1;33m\u001b[0m\u001b[1;33m\u001b[0m\u001b[0m\n",
      "\u001b[1;31mAttributeError\u001b[0m: module 'pandas' has no attribute 'compat'"
     ]
    }
   ],
   "source": [
    "import pandas as pd\n",
    "\n",
    "def hwfriclosspsi(cfactor,ratebpm,pipeidinch,lengthft):\n",
    "    hyddiam = 4*(3.14159*(pipeidinch/2)**2)/(2*3.14169*pipeidinch/2)\n",
    "    hwfriclosspsi = 0.2083*((100/cfactor)**1.852)*((ratebpm*42)**1.852)/(hyddiam**4.8655)*.433*lengthft/100\n",
    "    return hwfriclosspsi\n",
    "\n",
    "def freduction(pipeidinch,ratebpm):\n",
    "    velocftpersec = (5.615*144/60)*ratebpm/(3.14159*(pipeidinch/2)**2)\n",
    "    fr = 6.2126*velocftpersec**0.5858\n",
    "    return fr\n",
    "\n",
    "#scenario_a_pipe_friction = hwfriclosspsi(120,80,)\n",
    "\n",
    "bpmrange=list(range(0, 150))\n",
    "pipefric=pd.DataFrame(bpmrange, columns = ['Surface Pumping Rate'])\n",
    "\n",
    "print(hwfriclosspsi(120,80,4.892,15000))\n",
    "print(freduction(4.892,80))"
   ]
  },
  {
   "cell_type": "markdown",
   "metadata": {},
   "source": []
  }
 ],
 "metadata": {
  "kernelspec": {
   "display_name": "Python 3",
   "language": "python",
   "name": "python3"
  }
 },
 "nbformat": 4,
 "nbformat_minor": 4
}
